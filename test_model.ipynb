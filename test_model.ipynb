{
 "cells": [
  {
   "cell_type": "code",
   "execution_count": 4,
   "metadata": {},
   "outputs": [
    {
     "name": "stderr",
     "output_type": "stream",
     "text": [
      "WARNING:absl:Compiled the loaded model, but the compiled metrics have yet to be built. `model.compile_metrics` will be empty until you train or evaluate the model.\n"
     ]
    },
    {
     "name": "stdout",
     "output_type": "stream",
     "text": [
      "\u001b[1m1/1\u001b[0m \u001b[32m━━━━━━━━━━━━━━━━━━━━\u001b[0m\u001b[37m\u001b[0m \u001b[1m0s\u001b[0m 87ms/step\n",
      "The tomato in the image is ripe with a confidence of 100.00%.\n"
     ]
    }
   ],
   "source": [
    "# Import necessary libraries\n",
    "import numpy as np\n",
    "from tensorflow.keras.models import load_model\n",
    "from tensorflow.keras.preprocessing import image\n",
    "from tensorflow.keras.preprocessing.image import ImageDataGenerator\n",
    "\n",
    "# Load the trained model\n",
    "model = load_model('tomato_ripeness_final_model.h5')\n",
    "\n",
    "# Function to test a single image\n",
    "def test_single_image(img_path, img_width=128, img_height=128):\n",
    "    # Load and preprocess the image\n",
    "    img = image.load_img(img_path, target_size=(img_width, img_height))\n",
    "    img_array = image.img_to_array(img) / 255.0  # Rescale the image\n",
    "    img_array = np.expand_dims(img_array, axis=0)  # Add batch dimension\n",
    "\n",
    "    # Make prediction\n",
    "    prediction = model.predict(img_array)\n",
    "\n",
    "    # Interpret the result\n",
    "    if prediction > 0.5:\n",
    "        print(f\"The tomato in the image is ripe with a confidence of {prediction[0][0] * 100:.2f}%.\")\n",
    "    else:\n",
    "        print(f\"The tomato in the image is unripe with a confidence of {(1 - prediction[0][0]) * 100:.2f}%.\")\n",
    "\n",
    "# Test a single image\n",
    "test_single_image(r\"D:\\Mithu tomato\\Tomato_Ripeness_detection\\test_images\\test_image1.webp\")\n",
    "\n",
    "\n"
   ]
  },
  {
   "cell_type": "code",
   "execution_count": null,
   "metadata": {},
   "outputs": [],
   "source": [
    "# Function to test multiple images using a directory\n",
    "def test_multiple_images(test_dir, img_width=128, img_height=128):\n",
    "    # Data Preprocessing using ImageDataGenerator (rescaling for test set)\n",
    "    test_datagen = ImageDataGenerator(rescale=1.0/255.0)\n",
    "\n",
    "    # Load the test images from directory\n",
    "    test_generator = test_datagen.flow_from_directory(\n",
    "        test_dir,\n",
    "        target_size=(img_width, img_height),\n",
    "        batch_size=32,\n",
    "        class_mode='binary',\n",
    "        shuffle=False  # No need to shuffle test data\n",
    "    )\n",
    "\n",
    "    # Evaluate the model on the test set\n",
    "    test_loss, test_acc = model.evaluate(test_generator)\n",
    "    print(f\"Test accuracy: {test_acc * 100:.2f}%\")\n",
    "\n",
    "# Test multiple images in a directory\n",
    "test_multiple_images(r\"D:\\Mithu tomato\\Tomato_Ripeness_detection\\test_images\")\n"
   ]
  }
 ],
 "metadata": {
  "kernelspec": {
   "display_name": "Python 3",
   "language": "python",
   "name": "python3"
  },
  "language_info": {
   "codemirror_mode": {
    "name": "ipython",
    "version": 3
   },
   "file_extension": ".py",
   "mimetype": "text/x-python",
   "name": "python",
   "nbconvert_exporter": "python",
   "pygments_lexer": "ipython3",
   "version": "3.12.5"
  }
 },
 "nbformat": 4,
 "nbformat_minor": 2
}
